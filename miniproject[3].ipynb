{
 "cells": [
  {
   "cell_type": "markdown",
   "metadata": {},
   "source": [
    "# 미니 프로젝트 3차 회의 준비자료"
   ]
  },
  {
   "cell_type": "markdown",
   "metadata": {},
   "source": [
    "이번에 해야할 것\n",
    "    1. 의료 데이터 적합도 체크 (charge가 없을 때)\n",
    "    2. 모델별 평가지표 비교, 정리 (6개의 분류모델 사용)\n",
    "    3. 내가 맡은 모델 , SVM과 KNN"
   ]
  },
  {
   "cell_type": "code",
   "execution_count": 1,
   "metadata": {},
   "outputs": [],
   "source": [
    "import numpy as np\n",
    "import pandas as pd\n",
    "import matplotlib.pyplot as plt\n",
    "import matplotlib"
   ]
  },
  {
   "cell_type": "code",
   "execution_count": 2,
   "metadata": {},
   "outputs": [
    {
     "name": "stdout",
     "output_type": "stream",
     "text": [
      "<class 'pandas.core.frame.DataFrame'>\n",
      "RangeIndex: 4185 entries, 0 to 4184\n",
      "Data columns (total 16 columns):\n",
      "male               4185 non-null int64\n",
      "currentSmoker      4185 non-null int64\n",
      "cigsPerDay         4185 non-null float64\n",
      "BPMeds             4185 non-null int64\n",
      "prevalentStroke    4185 non-null int64\n",
      "prevalentHyp       4185 non-null int64\n",
      "diabetes           4185 non-null int64\n",
      "totChol            4185 non-null float64\n",
      "sysBP              4185 non-null float64\n",
      "diaBP              4185 non-null float64\n",
      "BMI                4185 non-null float64\n",
      "heartRate          4185 non-null float64\n",
      "glucose            4185 non-null float64\n",
      "TenYearCHD         4185 non-null int64\n",
      "BMI_rank           4185 non-null float64\n",
      "age                4185 non-null object\n",
      "dtypes: float64(8), int64(7), object(1)\n",
      "memory usage: 523.2+ KB\n"
     ]
    }
   ],
   "source": [
    "data=pd.read_csv(\"C:/Users/SAMSUNG/Desktop/framingham3.csv\")\n",
    "data.info()"
   ]
  },
  {
   "cell_type": "code",
   "execution_count": 3,
   "metadata": {},
   "outputs": [
    {
     "name": "stdout",
     "output_type": "stream",
     "text": [
      "   male  currentSmoker  cigsPerDay  BPMeds  prevalentStroke  prevalentHyp  \\\n",
      "0     0              1        15.0       0                0             0   \n",
      "1     1              0         0.0       0                0             0   \n",
      "2     0              0         0.0       0                0             0   \n",
      "3     1              1        20.0       0                0             0   \n",
      "4     0              1        30.0       0                0             1   \n",
      "5     0              1        23.0       0                0             0   \n",
      "6     0              0         0.0       0                0             1   \n",
      "7     0              0         0.0       0                0             0   \n",
      "8     0              1        20.0       0                0             0   \n",
      "9     1              0         0.0       0                0             1   \n",
      "\n",
      "   diabetes  totChol  sysBP  diaBP   ...      glucose  TenYearCHD  나이_30대  \\\n",
      "0         0    242.0  111.0   70.0   ...     0.404817           0       1   \n",
      "1         0    195.0  106.0   70.0   ...     0.384412           0       1   \n",
      "2         0    250.0  121.0   81.0   ...     0.382358           0       0   \n",
      "3         0    245.0  127.5   80.0   ...     0.369192           0       0   \n",
      "4         0    225.0  150.0   95.0   ...     0.427603           1       0   \n",
      "5         0    285.0  130.0   84.0   ...     0.399616           0       0   \n",
      "6         0    228.0  180.0  110.0   ...     0.421991           0       0   \n",
      "7         0    205.0  138.0   71.0   ...     0.399616           1       0   \n",
      "8         0    313.0  100.0   71.0   ...     0.386430           0       0   \n",
      "9         0    260.0  141.5   89.0   ...     0.388412           0       0   \n",
      "\n",
      "   나이_40대  나이_50대  나이_60대  BMI_0.0  BMI_1.0  BMI_2.0  BMI_3.0  \n",
      "0       0       0       0        0        0        1        0  \n",
      "1       0       0       0        0        0        1        0  \n",
      "2       1       0       0        0        0        1        0  \n",
      "3       1       0       0        0        0        1        0  \n",
      "4       0       0       1        0        0        1        0  \n",
      "5       1       0       0        0        1        0        0  \n",
      "6       1       0       0        0        0        0        1  \n",
      "7       0       0       1        0        0        0        1  \n",
      "8       1       0       0        0        1        0        0  \n",
      "9       0       1       0        0        0        1        0  \n",
      "\n",
      "[10 rows x 21 columns]\n",
      "<class 'pandas.core.frame.DataFrame'>\n",
      "RangeIndex: 4185 entries, 0 to 4184\n",
      "Data columns (total 21 columns):\n",
      "male               4185 non-null int64\n",
      "currentSmoker      4185 non-null int64\n",
      "cigsPerDay         4185 non-null float64\n",
      "BPMeds             4185 non-null int64\n",
      "prevalentStroke    4185 non-null int64\n",
      "prevalentHyp       4185 non-null int64\n",
      "diabetes           4185 non-null int64\n",
      "totChol            4185 non-null float64\n",
      "sysBP              4185 non-null float64\n",
      "diaBP              4185 non-null float64\n",
      "heartRate          4185 non-null float64\n",
      "glucose            4185 non-null float64\n",
      "TenYearCHD         4185 non-null int64\n",
      "나이_30대             4185 non-null uint8\n",
      "나이_40대             4185 non-null uint8\n",
      "나이_50대             4185 non-null uint8\n",
      "나이_60대             4185 non-null uint8\n",
      "BMI_0.0            4185 non-null uint8\n",
      "BMI_1.0            4185 non-null uint8\n",
      "BMI_2.0            4185 non-null uint8\n",
      "BMI_3.0            4185 non-null uint8\n",
      "dtypes: float64(6), int64(7), uint8(8)\n",
      "memory usage: 457.8 KB\n"
     ]
    }
   ],
   "source": [
    "data=data.drop(['BMI'],axis='columns')         #bmi변수는 범주화해서 사용할 것이므로 bmi_rank만을 사용하기 위해 제거\n",
    "#get_dummies 함수\n",
    "data = pd.get_dummies(data,columns=['age'],prefix='나이')\n",
    "#hundred_students = pd.get_dummies(hundred_students, columns=['지역'], prefix='지역')\n",
    "data = pd.get_dummies(data,columns=['BMI_rank'],prefix='BMI')\n",
    "print(data.head(10))\n",
    "data.info()"
   ]
  },
  {
   "cell_type": "code",
   "execution_count": 4,
   "metadata": {},
   "outputs": [],
   "source": [
    "# 독립변수와 종속변수로 Split:\n",
    "X = data.drop(['TenYearCHD'], axis=1)\n",
    "y = data['TenYearCHD']"
   ]
  },
  {
   "cell_type": "markdown",
   "metadata": {},
   "source": [
    "SVM과 KNN 모두 feature scaling이 필요"
   ]
  },
  {
   "cell_type": "code",
   "execution_count": 5,
   "metadata": {},
   "outputs": [],
   "source": [
    "from sklearn.preprocessing import StandardScaler\n",
    "scaler = StandardScaler() \n",
    "X_sig = scaler.fit_transform(X)"
   ]
  },
  {
   "cell_type": "markdown",
   "metadata": {},
   "source": [
    "# Data split:"
   ]
  },
  {
   "cell_type": "code",
   "execution_count": 6,
   "metadata": {},
   "outputs": [],
   "source": [
    "from sklearn.model_selection import train_test_split\n",
    "\n",
    "X_train, X_test, y_train, y_test = train_test_split(X_sig, y, test_size=0.30, random_state=1)"
   ]
  },
  {
   "cell_type": "code",
   "execution_count": 7,
   "metadata": {},
   "outputs": [],
   "source": [
    "#SVM, KNN"
   ]
  },
  {
   "cell_type": "markdown",
   "metadata": {},
   "source": [
    "# KNN Classifier:"
   ]
  },
  {
   "cell_type": "code",
   "execution_count": 8,
   "metadata": {},
   "outputs": [],
   "source": [
    "from sklearn.neighbors import KNeighborsClassifier\n",
    "knn = KNeighborsClassifier()\n",
    "from sklearn.metrics import confusion_matrix, accuracy_score, classification_report"
   ]
  },
  {
   "cell_type": "code",
   "execution_count": 9,
   "metadata": {},
   "outputs": [
    {
     "name": "stdout",
     "output_type": "stream",
     "text": [
      "              precision    recall  f1-score   support\n",
      "\n",
      "           0       0.85      0.96      0.90      1051\n",
      "           1       0.39      0.12      0.18       205\n",
      "\n",
      "    accuracy                           0.83      1256\n",
      "   macro avg       0.62      0.54      0.54      1256\n",
      "weighted avg       0.77      0.83      0.79      1256\n",
      "\n"
     ]
    }
   ],
   "source": [
    "knn.fit(X_train, y_train)\n",
    "\n",
    "y_pred_train = knn.predict(X_train)\n",
    "y_prob_train = knn.predict_proba(X_train)[:,1]\n",
    "\n",
    "y_pred = knn.predict(X_test)\n",
    "y_prob = knn.predict_proba(X_test)[:,1]\n",
    "\n",
    "print(classification_report(y_test,y_pred))"
   ]
  },
  {
   "cell_type": "code",
   "execution_count": 10,
   "metadata": {},
   "outputs": [
    {
     "name": "stdout",
     "output_type": "stream",
     "text": [
      "{'n_neighbors': 19, 'p': 1}\n"
     ]
    }
   ],
   "source": [
    "from sklearn.model_selection import GridSearchCV, RandomizedSearchCV\n",
    "from scipy.stats import randint as sp_randint                    #random search\n",
    "knn = KNeighborsClassifier()\n",
    "\n",
    "params = {'n_neighbors': sp_randint(1,25),\n",
    "        'p': sp_randint(1,5)}\n",
    "\n",
    "rand_search_knn = RandomizedSearchCV(knn, param_distributions=params,\n",
    "                                 cv=3, random_state=1)\n",
    "rand_search_knn.fit(X_train, y_train)\n",
    "print(rand_search_knn.best_params_)"
   ]
  },
  {
   "cell_type": "code",
   "execution_count": 11,
   "metadata": {},
   "outputs": [
    {
     "name": "stdout",
     "output_type": "stream",
     "text": [
      "              precision    recall  f1-score   support\n",
      "\n",
      "           0       0.84      1.00      0.91      1051\n",
      "           1       0.50      0.01      0.03       205\n",
      "\n",
      "    accuracy                           0.84      1256\n",
      "   macro avg       0.67      0.51      0.47      1256\n",
      "weighted avg       0.78      0.84      0.77      1256\n",
      "\n"
     ]
    }
   ],
   "source": [
    "# KNN using best parameters\n",
    "\n",
    "knn = KNeighborsClassifier(**rand_search_knn.best_params_)\n",
    "\n",
    "knn.fit(X_train, y_train)\n",
    "\n",
    "y_pred_train = knn.predict(X_train)\n",
    "y_prob_train = knn.predict_proba(X_train)[:,1]\n",
    "\n",
    "y_pred = knn.predict(X_test)\n",
    "y_prob = knn.predict_proba(X_test)[:,1]\n",
    "\n",
    "print(classification_report(y_test,y_pred))"
   ]
  },
  {
   "cell_type": "code",
   "execution_count": 12,
   "metadata": {},
   "outputs": [
    {
     "data": {
      "text/plain": [
       "0.656065071592676"
      ]
     },
     "execution_count": 12,
     "metadata": {},
     "output_type": "execute_result"
    }
   ],
   "source": [
    "from sklearn.metrics import recall_score,precision_score,classification_report,roc_auc_score,roc_curve\n",
    "# calculate AUC\n",
    "knn_auc = roc_auc_score(y_test, y_prob) ; knn_auc"
   ]
  },
  {
   "cell_type": "markdown",
   "metadata": {},
   "source": [
    "# SVM Classifier:"
   ]
  },
  {
   "cell_type": "code",
   "execution_count": 13,
   "metadata": {},
   "outputs": [],
   "source": [
    "from sklearn.svm import SVC"
   ]
  },
  {
   "cell_type": "code",
   "execution_count": 14,
   "metadata": {},
   "outputs": [],
   "source": [
    "#grid search for optimum parameters\n",
    "Cs = [0.001, 0.01, 0.1, 1, 10]\n",
    "gammas = [0.001, 0.01, 0.1, 1]\n",
    "param_grid = {'C': Cs, 'gamma' : gammas}\n",
    "svm_clf = GridSearchCV(SVC(kernel='rbf', probability=True), param_grid, cv=10)"
   ]
  },
  {
   "cell_type": "code",
   "execution_count": 15,
   "metadata": {},
   "outputs": [
    {
     "data": {
      "text/plain": [
       "{'C': 0.001, 'gamma': 0.001}"
      ]
     },
     "execution_count": 15,
     "metadata": {},
     "output_type": "execute_result"
    }
   ],
   "source": [
    "# train the model\n",
    "svm_clf.fit(X_train,y_train)\n",
    "svm_clf.best_params_ "
   ]
  },
  {
   "cell_type": "code",
   "execution_count": 16,
   "metadata": {},
   "outputs": [],
   "source": [
    "# predictions\n",
    "svm_predict = svm_clf.predict(X_test)"
   ]
  },
  {
   "cell_type": "code",
   "execution_count": 22,
   "metadata": {},
   "outputs": [
    {
     "name": "stdout",
     "output_type": "stream",
     "text": [
      "              precision    recall  f1-score   support\n",
      "\n",
      "           0       0.84      1.00      0.91      1051\n",
      "           1       0.00      0.00      0.00       205\n",
      "\n",
      "    accuracy                           0.84      1256\n",
      "   macro avg       0.42      0.50      0.46      1256\n",
      "weighted avg       0.70      0.84      0.76      1256\n",
      "\n"
     ]
    },
    {
     "name": "stderr",
     "output_type": "stream",
     "text": [
      "C:\\Users\\SAMSUNG\\Anaconda3\\lib\\site-packages\\sklearn\\metrics\\classification.py:1437: UndefinedMetricWarning: Precision and F-score are ill-defined and being set to 0.0 in labels with no predicted samples.\n",
      "  'precision', 'predicted', average, warn_for)\n"
     ]
    }
   ],
   "source": [
    "print(classification_report(y_test,svm_predict))"
   ]
  },
  {
   "cell_type": "code",
   "execution_count": 24,
   "metadata": {},
   "outputs": [
    {
     "data": {
      "text/plain": [
       "0.6363695435241697"
      ]
     },
     "execution_count": 24,
     "metadata": {},
     "output_type": "execute_result"
    }
   ],
   "source": [
    "# ROC curve and AUC \n",
    "probs = svm_clf.predict_proba(X_test)\n",
    "# keep probabilities for the positive outcome only\n",
    "probs = probs[:, 1]\n",
    "# calculate AUC\n",
    "svm_auc = roc_auc_score(y_test, probs) ;svm_auc"
   ]
  }
 ],
 "metadata": {
  "kernelspec": {
   "display_name": "Python 3",
   "language": "python",
   "name": "python3"
  },
  "language_info": {
   "codemirror_mode": {
    "name": "ipython",
    "version": 3
   },
   "file_extension": ".py",
   "mimetype": "text/x-python",
   "name": "python",
   "nbconvert_exporter": "python",
   "pygments_lexer": "ipython3",
   "version": "3.6.5"
  }
 },
 "nbformat": 4,
 "nbformat_minor": 2
}
