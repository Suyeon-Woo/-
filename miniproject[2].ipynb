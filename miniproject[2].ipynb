{
 "cells": [
  {
   "cell_type": "markdown",
   "metadata": {
    "id": "t8Q8KhjDPIww"
   },
   "source": [
    "# 미니프로젝트 2차 회의 준비자료"
   ]
  },
  {
   "cell_type": "markdown",
   "metadata": {},
   "source": [
    "*   사용된 데이터 - https://www.kaggle.com/amanajmera1/framingham-heart-study-dataset?select=framingham.csv\n",
    "*   data preprocessing을 통해 자료의 특성을 파악/정리"
   ]
  },
  {
   "cell_type": "markdown",
   "metadata": {
    "id": "AmgMwTFKWNqX"
   },
   "source": [
    "[진행 과정]\n",
    "1. 5개 변수 결측값 대체 (cigPerday ; 수연 /totchol, bpmeds ;민영/ glucose, bmi;은주)\n",
    "2. 모델 적합해보기 (charge 변수 없이) - 결측값 처리 후에 해야할 부분"
   ]
  },
  {
   "cell_type": "markdown",
   "metadata": {},
   "source": [
    "[1차 회의내용 참고사항]\n",
    "- 결측치를 다 median 값으로 했음. (imputation을 그룹화해서 하면 좋을 듯.)\n",
    "- 각 변수의 describe 확인, 하루 평균 담배량을 구간화하면 좋을것같다고 생각함."
   ]
  },
  {
   "cell_type": "code",
   "execution_count": 2,
   "metadata": {
    "executionInfo": {
     "elapsed": 906,
     "status": "ok",
     "timestamp": 1603086526427,
     "user": {
      "displayName": "ssue sss",
      "photoUrl": "",
      "userId": "00612158365667720411"
     },
     "user_tz": -540
    },
    "id": "IRFwXa_SPH93"
   },
   "outputs": [],
   "source": [
    "import numpy as np\n",
    "import pandas as pd\n",
    "import matplotlib.pyplot as plt\n",
    "import matplotlib"
   ]
  },
  {
   "cell_type": "code",
   "execution_count": 3,
   "metadata": {
    "colab": {
     "base_uri": "https://localhost:8080/",
     "height": 430
    },
    "executionInfo": {
     "elapsed": 1067,
     "status": "error",
     "timestamp": 1603086530670,
     "user": {
      "displayName": "ssue sss",
      "photoUrl": "",
      "userId": "00612158365667720411"
     },
     "user_tz": -540
    },
    "id": "JoWak4rQPIGP",
    "outputId": "458f2dcd-9696-4566-8a5d-3a8c3a63d122"
   },
   "outputs": [
    {
     "name": "stdout",
     "output_type": "stream",
     "text": [
      "<class 'pandas.core.frame.DataFrame'>\n",
      "RangeIndex: 4240 entries, 0 to 4239\n",
      "Data columns (total 16 columns):\n",
      "male               4240 non-null int64\n",
      "age                4240 non-null int64\n",
      "education          4135 non-null float64\n",
      "currentSmoker      4240 non-null int64\n",
      "cigsPerDay         4211 non-null float64\n",
      "BPMeds             4187 non-null float64\n",
      "prevalentStroke    4240 non-null int64\n",
      "prevalentHyp       4240 non-null int64\n",
      "diabetes           4240 non-null int64\n",
      "totChol            4190 non-null float64\n",
      "sysBP              4240 non-null float64\n",
      "diaBP              4240 non-null float64\n",
      "BMI                4221 non-null float64\n",
      "heartRate          4239 non-null float64\n",
      "glucose            3852 non-null float64\n",
      "TenYearCHD         4240 non-null int64\n",
      "dtypes: float64(9), int64(7)\n",
      "memory usage: 530.1 KB\n",
      "None\n"
     ]
    }
   ],
   "source": [
    "#변수 살펴보기\n",
    "data=pd.read_csv(\"C:/Users/SAMSUNG/Desktop/framingham.csv\")\n",
    "print(data.info())"
   ]
  },
  {
   "cell_type": "markdown",
   "metadata": {},
   "source": [
    "[변수설명]\n",
    "\n",
    "Demographic:\n",
    "*    성별: male or female(Nominal)\n",
    "*    나이\n",
    "*    교육수준\n",
    "\n",
    "Behavioral:\n",
    "*    현재 흡연여부: whether or not the patient is a current smoker (Nominal)\n",
    "*    하루 평균 담배량: the number of cigarettes that the person smoked on average in one day.(can be considered continuous as one can have any number of cigarettes, even half a cigarette.)\n",
    "\n",
    "Information on medical history(병력):\n",
    "*    BP Meds: 혈압약 복용 여부 (Nominal)\n",
    "*    Prevalent Stroke: 뇌졸중 여부 (Nominal)\n",
    "*    Prevalent Hyp: 고혈압 여부 (Nominal)\n",
    "*    Diabetes: 당뇨병 여부 (Nominal)\n",
    "\n",
    "Information on current medical condition:\n",
    "*    Tot Chol: 총 콜레스테롤 수치 (Continuous)\n",
    "*    Sys BP: systolic blood pressure (Continuous)\n",
    "*    Dia BP: diastolic blood pressure (Continuous)\n",
    "*    BMI: Body Mass Index (Continuous)\n",
    "*    Heart Rate: 심박수 (Continuous)\n",
    "*    Glucose: 포도당 수치 (Continuous)\n",
    "\n",
    "Target variable to predict:\n",
    "*    10 year risk of coronary heart disease (CHD) - (binary: “1”, means “Yes”, “0” means “No”)"
   ]
  },
  {
   "cell_type": "code",
   "execution_count": 39,
   "metadata": {
    "id": "YBjW5xaAPIOu"
   },
   "outputs": [
    {
     "data": {
      "text/plain": [
       "male                 0\n",
       "age                  0\n",
       "education          105\n",
       "currentSmoker        0\n",
       "cigsPerDay          29\n",
       "BPMeds              53\n",
       "prevalentStroke      0\n",
       "prevalentHyp         0\n",
       "diabetes             0\n",
       "totChol             50\n",
       "sysBP                0\n",
       "diaBP                0\n",
       "BMI                 19\n",
       "heartRate            1\n",
       "glucose            388\n",
       "TenYearCHD           0\n",
       "dtype: int64"
      ]
     },
     "execution_count": 39,
     "metadata": {},
     "output_type": "execute_result"
    }
   ],
   "source": [
    "# 결측치 빈도\n",
    "data.isna().sum()"
   ]
  },
  {
   "cell_type": "code",
   "execution_count": 40,
   "metadata": {},
   "outputs": [
    {
     "data": {
      "text/plain": [
       "count    4240.000000\n",
       "mean       49.580189\n",
       "std         8.572942\n",
       "min        32.000000\n",
       "25%        42.000000\n",
       "50%        49.000000\n",
       "75%        56.000000\n",
       "max        70.000000\n",
       "Name: age, dtype: float64"
      ]
     },
     "execution_count": 40,
     "metadata": {},
     "output_type": "execute_result"
    }
   ],
   "source": [
    "#겹치는 변수 - 흡연여부, 나이, 성별, bmi\n",
    "#나이의 범위 - 32세~70세 (조정 필요)\n",
    "data['age'].describe()"
   ]
  },
  {
   "cell_type": "markdown",
   "metadata": {},
   "source": [
    "여기까지의 결론 : education 변수는 제거하고, 결측치도 모두 제거"
   ]
  },
  {
   "cell_type": "code",
   "execution_count": 14,
   "metadata": {},
   "outputs": [],
   "source": [
    "# Dropping columns education\n",
    "data = data.drop(['education'], axis=1)\n",
    "# 여기 조정해야함!! data = data[data['age'] != 'gee']"
   ]
  },
  {
   "cell_type": "code",
   "execution_count": null,
   "metadata": {},
   "outputs": [],
   "source": [
    "from impyute.imputation.cs import mice\n",
    "imputed_training=mice(train.values)\n",
    "#다 채운다음에 마지막에 cigsPerday는 MICE 기법으로 채우면 좋을듯."
   ]
  },
  {
   "cell_type": "markdown",
   "metadata": {},
   "source": [
    "https://subinium.github.io/missing-data-handling/"
   ]
  },
  {
   "cell_type": "code",
   "execution_count": null,
   "metadata": {},
   "outputs": [],
   "source": []
  },
  {
   "cell_type": "code",
   "execution_count": null,
   "metadata": {},
   "outputs": [],
   "source": []
  },
  {
   "cell_type": "code",
   "execution_count": null,
   "metadata": {},
   "outputs": [],
   "source": []
  }
 ],
 "metadata": {
  "colab": {
   "authorship_tag": "ABX9TyPzEGAZX/k5PjV7erzgm7iA",
   "collapsed_sections": [],
   "name": "miniproject[1].ipynb",
   "provenance": []
  },
  "kernelspec": {
   "display_name": "Python 3",
   "language": "python",
   "name": "python3"
  },
  "language_info": {
   "codemirror_mode": {
    "name": "ipython",
    "version": 3
   },
   "file_extension": ".py",
   "mimetype": "text/x-python",
   "name": "python",
   "nbconvert_exporter": "python",
   "pygments_lexer": "ipython3",
   "version": "3.6.5"
  }
 },
 "nbformat": 4,
 "nbformat_minor": 1
}
