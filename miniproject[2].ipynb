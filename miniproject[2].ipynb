{
 "cells": [
  {
   "cell_type": "markdown",
   "metadata": {
    "id": "t8Q8KhjDPIww"
   },
   "source": [
    "# 미니프로젝트 2차 회의 준비자료"
   ]
  },
  {
   "cell_type": "markdown",
   "metadata": {},
   "source": [
    "*   사용된 데이터 - https://www.kaggle.com/amanajmera1/framingham-heart-study-dataset?select=framingham.csv\n",
    "*   data preprocessing을 통해 자료의 특성을 파악/정리"
   ]
  },
  {
   "cell_type": "markdown",
   "metadata": {
    "id": "AmgMwTFKWNqX"
   },
   "source": [
    "[진행 과정]\n",
    "1. 5개 변수 결측값 대체 (cigPerday ; 수연 /totchol, bpmeds ;민영/ glucose, bmi;은주)\n",
    "2. 모델 적합해보기 (charge 변수 없이) - 결측값 처리 후에 해야할 부분"
   ]
  },
  {
   "cell_type": "markdown",
   "metadata": {},
   "source": [
    "[1차 회의내용 참고사항]\n",
    "- 결측치를 다 median 값으로 했음. (imputation을 그룹화해서 하면 좋을 듯.)\n",
    "- 각 변수의 describe 확인, 하루 평균 담배량을 구간화하면 좋을것같다고 생각함."
   ]
  },
  {
   "cell_type": "code",
   "execution_count": 26,
   "metadata": {
    "executionInfo": {
     "elapsed": 906,
     "status": "ok",
     "timestamp": 1603086526427,
     "user": {
      "displayName": "ssue sss",
      "photoUrl": "",
      "userId": "00612158365667720411"
     },
     "user_tz": -540
    },
    "id": "IRFwXa_SPH93"
   },
   "outputs": [],
   "source": [
    "import numpy as np\n",
    "import pandas as pd\n",
    "import matplotlib.pyplot as plt\n",
    "import matplotlib"
   ]
  },
  {
   "cell_type": "code",
   "execution_count": 27,
   "metadata": {
    "colab": {
     "base_uri": "https://localhost:8080/",
     "height": 430
    },
    "executionInfo": {
     "elapsed": 1067,
     "status": "error",
     "timestamp": 1603086530670,
     "user": {
      "displayName": "ssue sss",
      "photoUrl": "",
      "userId": "00612158365667720411"
     },
     "user_tz": -540
    },
    "id": "JoWak4rQPIGP",
    "outputId": "458f2dcd-9696-4566-8a5d-3a8c3a63d122"
   },
   "outputs": [
    {
     "name": "stdout",
     "output_type": "stream",
     "text": [
      "<class 'pandas.core.frame.DataFrame'>\n",
      "RangeIndex: 4240 entries, 0 to 4239\n",
      "Data columns (total 16 columns):\n",
      "male               4240 non-null int64\n",
      "age                4240 non-null int64\n",
      "education          4135 non-null float64\n",
      "currentSmoker      4240 non-null int64\n",
      "cigsPerDay         4211 non-null float64\n",
      "BPMeds             4187 non-null float64\n",
      "prevalentStroke    4240 non-null int64\n",
      "prevalentHyp       4240 non-null int64\n",
      "diabetes           4240 non-null int64\n",
      "totChol            4190 non-null float64\n",
      "sysBP              4240 non-null float64\n",
      "diaBP              4240 non-null float64\n",
      "BMI                4221 non-null float64\n",
      "heartRate          4239 non-null float64\n",
      "glucose            3852 non-null float64\n",
      "TenYearCHD         4240 non-null int64\n",
      "dtypes: float64(9), int64(7)\n",
      "memory usage: 530.1 KB\n",
      "None\n"
     ]
    }
   ],
   "source": [
    "#변수 살펴보기\n",
    "data=pd.read_csv(\"C:/Users/SAMSUNG/Desktop/framingham.csv\")\n",
    "print(data.info())"
   ]
  },
  {
   "cell_type": "markdown",
   "metadata": {},
   "source": [
    "[변수설명]\n",
    "\n",
    "Demographic:\n",
    "*    성별: male or female(Nominal)\n",
    "*    나이\n",
    "*    교육수준\n",
    "\n",
    "Behavioral:\n",
    "*    현재 흡연여부: whether or not the patient is a current smoker (Nominal)\n",
    "*    하루 평균 담배량: the number of cigarettes that the person smoked on average in one day.(can be considered continuous as one can have any number of cigarettes, even half a cigarette.)\n",
    "\n",
    "Information on medical history(병력):\n",
    "*    BP Meds: 혈압약 복용 여부 (Nominal)\n",
    "*    Prevalent Stroke: 뇌졸중 여부 (Nominal)\n",
    "*    Prevalent Hyp: 고혈압 여부 (Nominal)\n",
    "*    Diabetes: 당뇨병 여부 (Nominal)\n",
    "\n",
    "Information on current medical condition:\n",
    "*    Tot Chol: 총 콜레스테롤 수치 (Continuous)\n",
    "*    Sys BP: systolic blood pressure (Continuous)\n",
    "*    Dia BP: diastolic blood pressure (Continuous)\n",
    "*    BMI: Body Mass Index (Continuous)\n",
    "*    Heart Rate: 심박수 (Continuous)\n",
    "*    Glucose: 포도당 수치 (Continuous)\n",
    "\n",
    "Target variable to predict:\n",
    "*    10 year risk of coronary heart disease (CHD) - (binary: “1”, means “Yes”, “0” means “No”)"
   ]
  },
  {
   "cell_type": "code",
   "execution_count": 28,
   "metadata": {
    "id": "YBjW5xaAPIOu"
   },
   "outputs": [
    {
     "data": {
      "text/plain": [
       "male                 0\n",
       "age                  0\n",
       "education          105\n",
       "currentSmoker        0\n",
       "cigsPerDay          29\n",
       "BPMeds              53\n",
       "prevalentStroke      0\n",
       "prevalentHyp         0\n",
       "diabetes             0\n",
       "totChol             50\n",
       "sysBP                0\n",
       "diaBP                0\n",
       "BMI                 19\n",
       "heartRate            1\n",
       "glucose            388\n",
       "TenYearCHD           0\n",
       "dtype: int64"
      ]
     },
     "execution_count": 28,
     "metadata": {},
     "output_type": "execute_result"
    }
   ],
   "source": [
    "# 결측치 빈도\n",
    "data.isna().sum()"
   ]
  },
  {
   "cell_type": "code",
   "execution_count": 29,
   "metadata": {},
   "outputs": [
    {
     "data": {
      "text/plain": [
       "count    4240.000000\n",
       "mean       49.580189\n",
       "std         8.572942\n",
       "min        32.000000\n",
       "25%        42.000000\n",
       "50%        49.000000\n",
       "75%        56.000000\n",
       "max        70.000000\n",
       "Name: age, dtype: float64"
      ]
     },
     "execution_count": 29,
     "metadata": {},
     "output_type": "execute_result"
    }
   ],
   "source": [
    "#겹치는 변수 - 흡연여부, 나이, 성별, bmi\n",
    "#나이의 범위 - 32세~70세 (조정 필요)\n",
    "data['age'].describe()"
   ]
  },
  {
   "cell_type": "markdown",
   "metadata": {},
   "source": [
    "여기까지의 결론 : education 변수는 제거하고, 결측치도 모두 제거"
   ]
  },
  {
   "cell_type": "code",
   "execution_count": 30,
   "metadata": {},
   "outputs": [],
   "source": [
    "# Dropping columns education\n",
    "data = data.drop(['education'], axis=1)\n",
    "data = data[data['age']<=64]"
   ]
  },
  {
   "cell_type": "code",
   "execution_count": 33,
   "metadata": {},
   "outputs": [
    {
     "data": {
      "text/html": [
       "<div>\n",
       "<style scoped>\n",
       "    .dataframe tbody tr th:only-of-type {\n",
       "        vertical-align: middle;\n",
       "    }\n",
       "\n",
       "    .dataframe tbody tr th {\n",
       "        vertical-align: top;\n",
       "    }\n",
       "\n",
       "    .dataframe thead th {\n",
       "        text-align: right;\n",
       "    }\n",
       "</style>\n",
       "<table border=\"1\" class=\"dataframe\">\n",
       "  <thead>\n",
       "    <tr style=\"text-align: right;\">\n",
       "      <th></th>\n",
       "      <th>male</th>\n",
       "      <th>age</th>\n",
       "      <th>currentSmoker</th>\n",
       "      <th>cigsPerDay</th>\n",
       "      <th>BPMeds</th>\n",
       "      <th>prevalentStroke</th>\n",
       "      <th>prevalentHyp</th>\n",
       "      <th>diabetes</th>\n",
       "      <th>totChol</th>\n",
       "      <th>sysBP</th>\n",
       "      <th>diaBP</th>\n",
       "      <th>BMI</th>\n",
       "      <th>heartRate</th>\n",
       "      <th>glucose</th>\n",
       "      <th>TenYearCHD</th>\n",
       "    </tr>\n",
       "  </thead>\n",
       "  <tbody>\n",
       "    <tr>\n",
       "      <th>count</th>\n",
       "      <td>4073.000000</td>\n",
       "      <td>4073.000000</td>\n",
       "      <td>4073.000000</td>\n",
       "      <td>4073.000000</td>\n",
       "      <td>4028.000000</td>\n",
       "      <td>4073.000000</td>\n",
       "      <td>4073.000000</td>\n",
       "      <td>4073.000000</td>\n",
       "      <td>4028.000000</td>\n",
       "      <td>4073.000000</td>\n",
       "      <td>4073.000000</td>\n",
       "      <td>4056.000000</td>\n",
       "      <td>4072.000000</td>\n",
       "      <td>3698.000000</td>\n",
       "      <td>4073.000000</td>\n",
       "    </tr>\n",
       "    <tr>\n",
       "      <th>mean</th>\n",
       "      <td>0.430395</td>\n",
       "      <td>48.893936</td>\n",
       "      <td>0.502823</td>\n",
       "      <td>9.299779</td>\n",
       "      <td>0.026564</td>\n",
       "      <td>0.005156</td>\n",
       "      <td>0.298797</td>\n",
       "      <td>0.024061</td>\n",
       "      <td>236.357001</td>\n",
       "      <td>131.662779</td>\n",
       "      <td>82.789344</td>\n",
       "      <td>25.762591</td>\n",
       "      <td>75.850933</td>\n",
       "      <td>81.671985</td>\n",
       "      <td>0.142892</td>\n",
       "    </tr>\n",
       "    <tr>\n",
       "      <th>std</th>\n",
       "      <td>0.495192</td>\n",
       "      <td>8.030427</td>\n",
       "      <td>0.500053</td>\n",
       "      <td>11.986946</td>\n",
       "      <td>0.160825</td>\n",
       "      <td>0.071628</td>\n",
       "      <td>0.457787</td>\n",
       "      <td>0.153257</td>\n",
       "      <td>44.656231</td>\n",
       "      <td>21.545966</td>\n",
       "      <td>11.830081</td>\n",
       "      <td>4.047695</td>\n",
       "      <td>11.985114</td>\n",
       "      <td>23.239373</td>\n",
       "      <td>0.350006</td>\n",
       "    </tr>\n",
       "    <tr>\n",
       "      <th>min</th>\n",
       "      <td>0.000000</td>\n",
       "      <td>32.000000</td>\n",
       "      <td>0.000000</td>\n",
       "      <td>0.000000</td>\n",
       "      <td>0.000000</td>\n",
       "      <td>0.000000</td>\n",
       "      <td>0.000000</td>\n",
       "      <td>0.000000</td>\n",
       "      <td>113.000000</td>\n",
       "      <td>83.500000</td>\n",
       "      <td>50.000000</td>\n",
       "      <td>15.960000</td>\n",
       "      <td>44.000000</td>\n",
       "      <td>40.000000</td>\n",
       "      <td>0.000000</td>\n",
       "    </tr>\n",
       "    <tr>\n",
       "      <th>25%</th>\n",
       "      <td>0.000000</td>\n",
       "      <td>42.000000</td>\n",
       "      <td>0.000000</td>\n",
       "      <td>0.000000</td>\n",
       "      <td>0.000000</td>\n",
       "      <td>0.000000</td>\n",
       "      <td>0.000000</td>\n",
       "      <td>0.000000</td>\n",
       "      <td>205.000000</td>\n",
       "      <td>116.000000</td>\n",
       "      <td>75.000000</td>\n",
       "      <td>23.060000</td>\n",
       "      <td>68.000000</td>\n",
       "      <td>71.000000</td>\n",
       "      <td>0.000000</td>\n",
       "    </tr>\n",
       "    <tr>\n",
       "      <th>50%</th>\n",
       "      <td>0.000000</td>\n",
       "      <td>48.000000</td>\n",
       "      <td>1.000000</td>\n",
       "      <td>1.000000</td>\n",
       "      <td>0.000000</td>\n",
       "      <td>0.000000</td>\n",
       "      <td>0.000000</td>\n",
       "      <td>0.000000</td>\n",
       "      <td>233.000000</td>\n",
       "      <td>128.000000</td>\n",
       "      <td>82.000000</td>\n",
       "      <td>25.375000</td>\n",
       "      <td>75.000000</td>\n",
       "      <td>78.000000</td>\n",
       "      <td>0.000000</td>\n",
       "    </tr>\n",
       "    <tr>\n",
       "      <th>75%</th>\n",
       "      <td>1.000000</td>\n",
       "      <td>55.000000</td>\n",
       "      <td>1.000000</td>\n",
       "      <td>20.000000</td>\n",
       "      <td>0.000000</td>\n",
       "      <td>0.000000</td>\n",
       "      <td>1.000000</td>\n",
       "      <td>0.000000</td>\n",
       "      <td>262.000000</td>\n",
       "      <td>142.500000</td>\n",
       "      <td>89.000000</td>\n",
       "      <td>27.980000</td>\n",
       "      <td>83.000000</td>\n",
       "      <td>86.000000</td>\n",
       "      <td>0.000000</td>\n",
       "    </tr>\n",
       "    <tr>\n",
       "      <th>max</th>\n",
       "      <td>1.000000</td>\n",
       "      <td>64.000000</td>\n",
       "      <td>1.000000</td>\n",
       "      <td>70.000000</td>\n",
       "      <td>1.000000</td>\n",
       "      <td>1.000000</td>\n",
       "      <td>1.000000</td>\n",
       "      <td>1.000000</td>\n",
       "      <td>696.000000</td>\n",
       "      <td>295.000000</td>\n",
       "      <td>142.500000</td>\n",
       "      <td>56.800000</td>\n",
       "      <td>143.000000</td>\n",
       "      <td>394.000000</td>\n",
       "      <td>1.000000</td>\n",
       "    </tr>\n",
       "  </tbody>\n",
       "</table>\n",
       "</div>"
      ],
      "text/plain": [
       "              male          age  currentSmoker   cigsPerDay       BPMeds  \\\n",
       "count  4073.000000  4073.000000    4073.000000  4073.000000  4028.000000   \n",
       "mean      0.430395    48.893936       0.502823     9.299779     0.026564   \n",
       "std       0.495192     8.030427       0.500053    11.986946     0.160825   \n",
       "min       0.000000    32.000000       0.000000     0.000000     0.000000   \n",
       "25%       0.000000    42.000000       0.000000     0.000000     0.000000   \n",
       "50%       0.000000    48.000000       1.000000     1.000000     0.000000   \n",
       "75%       1.000000    55.000000       1.000000    20.000000     0.000000   \n",
       "max       1.000000    64.000000       1.000000    70.000000     1.000000   \n",
       "\n",
       "       prevalentStroke  prevalentHyp     diabetes      totChol        sysBP  \\\n",
       "count      4073.000000   4073.000000  4073.000000  4028.000000  4073.000000   \n",
       "mean          0.005156      0.298797     0.024061   236.357001   131.662779   \n",
       "std           0.071628      0.457787     0.153257    44.656231    21.545966   \n",
       "min           0.000000      0.000000     0.000000   113.000000    83.500000   \n",
       "25%           0.000000      0.000000     0.000000   205.000000   116.000000   \n",
       "50%           0.000000      0.000000     0.000000   233.000000   128.000000   \n",
       "75%           0.000000      1.000000     0.000000   262.000000   142.500000   \n",
       "max           1.000000      1.000000     1.000000   696.000000   295.000000   \n",
       "\n",
       "             diaBP          BMI    heartRate      glucose   TenYearCHD  \n",
       "count  4073.000000  4056.000000  4072.000000  3698.000000  4073.000000  \n",
       "mean     82.789344    25.762591    75.850933    81.671985     0.142892  \n",
       "std      11.830081     4.047695    11.985114    23.239373     0.350006  \n",
       "min      50.000000    15.960000    44.000000    40.000000     0.000000  \n",
       "25%      75.000000    23.060000    68.000000    71.000000     0.000000  \n",
       "50%      82.000000    25.375000    75.000000    78.000000     0.000000  \n",
       "75%      89.000000    27.980000    83.000000    86.000000     0.000000  \n",
       "max     142.500000    56.800000   143.000000   394.000000     1.000000  "
      ]
     },
     "execution_count": 33,
     "metadata": {},
     "output_type": "execute_result"
    }
   ],
   "source": [
    "data.describe()"
   ]
  },
  {
   "cell_type": "code",
   "execution_count": 32,
   "metadata": {},
   "outputs": [],
   "source": [
    "# 흡연자에 대한 median값으로 결측값을 채움.\n",
    "data.cigsPerDay.fillna(data.cigsPerDay.where(data.currentSmoker==1).median(),inplace=True)"
   ]
  },
  {
   "cell_type": "markdown",
   "metadata": {},
   "source": [
    "분류 모델 후보\n",
    "    1. 로지스틱 회귀\n",
    "    2. 결정트리 / 랜덤포레스트\n",
    "    3. SVM\n",
    "    4. KNN\n",
    "    5. emsemble algorithm"
   ]
  },
  {
   "cell_type": "markdown",
   "metadata": {},
   "source": [
    "https://www.kaggle.com/shikhnu/ensemble-learning-stacking-algorithm"
   ]
  }
 ],
 "metadata": {
  "colab": {
   "authorship_tag": "ABX9TyPzEGAZX/k5PjV7erzgm7iA",
   "collapsed_sections": [],
   "name": "miniproject[1].ipynb",
   "provenance": []
  },
  "kernelspec": {
   "display_name": "Python 3",
   "language": "python",
   "name": "python3"
  },
  "language_info": {
   "codemirror_mode": {
    "name": "ipython",
    "version": 3
   },
   "file_extension": ".py",
   "mimetype": "text/x-python",
   "name": "python",
   "nbconvert_exporter": "python",
   "pygments_lexer": "ipython3",
   "version": "3.6.5"
  }
 },
 "nbformat": 4,
 "nbformat_minor": 1
}
