{
 "cells": [
  {
   "cell_type": "code",
   "execution_count": null,
   "metadata": {},
   "outputs": [],
   "source": [
    "#고객 유지를위한 행동을 예측하십시오. \n",
    "#모든 관련 고객 데이터를 분석하고 집중된 고객 유지 프로그램을 개발할 수 있습니다.\n",
    "\n",
    "#고객이 구독을 취소했는지 여부를 지정하는 이탈 레이블과 함께 정리 된 고객 활동 데이터 (기능)로 구성된 \n",
    "# Orange Telecom의 Churn Dataset은 예측 모델을 개발하는 데 사용됩니다. \n",
    "#여기에서 두 가지 데이터 세트를 사용할 수 있습니다. churn-80 및 churn-20 데이터 세트를 다운로드 할 수 있습니다.\n",
    "\n",
    "#두 세트는 동일한 배치에서 나왔지만 80/20 비율로 분할되었습니다. \n",
    "# ML 모델을 개발하는 데 더 많은 데이터가 필요한 경우가 많으므로 학습 및 교차 검증 목적으로 더 큰 세트 \n",
    "#(즉, churn-80)를 사용하고 최종 테스트 및 모델 성능을 위해 더 작은 세트 (즉, churn-20)를 사용하겠습니다."
   ]
  },
  {
   "cell_type": "code",
   "execution_count": null,
   "metadata": {},
   "outputs": [],
   "source": [
    "#churn80은 train, churn20은 test용"
   ]
  },
  {
   "cell_type": "markdown",
   "metadata": {},
   "source": [
    "# 전처리"
   ]
  },
  {
   "cell_type": "code",
   "execution_count": null,
   "metadata": {},
   "outputs": [],
   "source": [
    "import numpy as np\n",
    "import pandas as pd\n",
    "import matplotlib.pyplot as plt\n",
    "import matplotlib\n",
    "\n",
    "churn_train=pd.read_csv(\"C:/Users/SAMSUNG/Desktop/train_churn.csv\")\n",
    "churn_test=pd.read_csv(\"C:/Users/SAMSUNG/Desktop/test_churn.csv\")\n",
    "print(churn_train.shape)\n",
    "churn_train.head(3)"
   ]
  },
  {
   "cell_type": "code",
   "execution_count": null,
   "metadata": {},
   "outputs": [],
   "source": [
    "churn_test.info()"
   ]
  },
  {
   "cell_type": "code",
   "execution_count": null,
   "metadata": {},
   "outputs": [],
   "source": [
    "print(churn_train['Churn'].value_counts())\n",
    "print(churn_test['Churn'].value_counts())"
   ]
  },
  {
   "cell_type": "code",
   "execution_count": null,
   "metadata": {},
   "outputs": [],
   "source": [
    "churn_train.describe()"
   ]
  },
  {
   "cell_type": "code",
   "execution_count": null,
   "metadata": {},
   "outputs": [],
   "source": [
    "import pandas as pd\n",
    "\n",
    "churn_train=pd.get_dummies(churn_train[['State','International plan','Voice mail plan']]) # 원핫인코딩 실행\n",
    "churn_test=pd.get_dummies(churn_test[['State','International plan','Voice mail plan']]) # 원핫인코딩 실행"
   ]
  },
  {
   "cell_type": "code",
   "execution_count": null,
   "metadata": {},
   "outputs": [],
   "source": [
    "churn_train.info()"
   ]
  },
  {
   "cell_type": "code",
   "execution_count": null,
   "metadata": {},
   "outputs": [],
   "source": [
    "X_train = churn_train.iloc[:,:-1]\n",
    "y_train = churn_train.iloc[:,-1]\n",
    "X_test = churn_test.iloc[:,:-1]\n",
    "y_test = churn_test.iloc[:,-1]"
   ]
  },
  {
   "cell_type": "markdown",
   "metadata": {},
   "source": [
    "# 모델적합_XGBoost"
   ]
  },
  {
   "cell_type": "code",
   "execution_count": null,
   "metadata": {},
   "outputs": [],
   "source": [
    "from xgboost import XGBClassifier\n",
    "from sklearn.metrics import roc_auc_score\n",
    "\n",
    "xgb_clf = XGBClassifier(n_estimators=500, random_state=0,booster='gbtree')\n",
    "\n",
    "xgb_clf.fit(X_train,y_train,early_stopping_rounds=100,\n",
    "           eval_metric=\"auc\", eval_set=[(X_train,y_train),(X_test,y_test)])\n",
    "\n",
    "xgb_roc_score = roc_auc_score(y_test, xgb_clf.predict_proba(X_test)[:,1],average='macro')"
   ]
  },
  {
   "cell_type": "code",
   "execution_count": null,
   "metadata": {},
   "outputs": [],
   "source": [
    "from sklearn.model_selection import GridSearchCV\n",
    "\n",
    "xgb_clf = XGBClassifier(n_estimators=100)\n",
    "\n",
    "params = {'max_depth':[5,7],'min_child_weight':[1,3],'colsample_bytree':[0.5,0.75]}\n",
    "\n",
    "gridcv=GridSearchCV(xgb_clf,param_grid=params)\n",
    "gridcv.fit(X_train,y_train,early_stopping_rounds=30,eval_metric=\"auc\",\n",
    "          eval_set=[(X_train,y_train),(X_test,y_test)])\n",
    "\n",
    "print('GridSearchCV optimum paramater:', gridcv.best_params_)\n",
    "\n",
    "xgb_roc_score = roc_auc_score(y_test,gridcv.predict_proba(X_test)[:,1],average='macro')\n",
    "print('ROC AUC: {0:.4f}'.format(xgb_roc_score))"
   ]
  },
  {
   "cell_type": "code",
   "execution_count": null,
   "metadata": {},
   "outputs": [],
   "source": [
    "#GridSearchCV optimum paramater: {'colsample_bytree': 0.5, 'max_depth': 5, 'min_child_weight': 1}\n",
    "#ROC AUC: 1.0000"
   ]
  },
  {
   "cell_type": "code",
   "execution_count": null,
   "metadata": {},
   "outputs": [],
   "source": [
    "from xgboost import plot_importance\n",
    "from matplotlib import pyplot\n",
    "\n",
    "xgb_clf = XGBClassifier(n_estimators=100,random_state=0,colsample_bytree=0.5,max_depth=5,min_child_weight=1)\n",
    "xgb_clf.fit(X_train,y_train,early_stopping_rounds=200\n",
    "            ,eval_metric=\"auc\",eval_set=[(X_train,y_train),(X_test,y_test)])"
   ]
  },
  {
   "cell_type": "code",
   "execution_count": null,
   "metadata": {},
   "outputs": [],
   "source": [
    "# plot feature importance\n",
    "plot_importance(xgb_clf)\n",
    "pyplot.show()"
   ]
  },
  {
   "cell_type": "markdown",
   "metadata": {},
   "source": [
    "#과적합의 문제\n",
    "#변수중요도에서 국가 변수에 중요성이 치중되어 있음"
   ]
  },
  {
   "cell_type": "markdown",
   "metadata": {},
   "source": [
    "# 모델 적합_LightGBM"
   ]
  },
  {
   "cell_type": "code",
   "execution_count": null,
   "metadata": {},
   "outputs": [],
   "source": [
    "from lightgbm import LGBMClassifier\n",
    "\n",
    "lgbm_clf = LGBMClassifier(n_estimators=500)\n",
    "\n",
    "evals = [(X_test,y_test)]\n",
    "lgbm_clf.fit(X_train,y_train,early_stopping_rounds=100,eval_metric=\"auc\",eval_set=evals,\n",
    "            verbose=True)\n",
    "\n",
    "lgbm_roc_score=roc_auc_score(y_test,lgbm_clf.predict_proba(X_test)[:,1],average='macro')\n",
    "print('ROC AUC: {0:.4f}'.format(lgbm_roc_score))"
   ]
  },
  {
   "cell_type": "code",
   "execution_count": null,
   "metadata": {},
   "outputs": [],
   "source": [
    "from lightgbm import plot_importance\n",
    "import matplotlib.pyplot as plt\n",
    "\n",
    "plot_importance(lgbm_clf)\n",
    "pyplot.show()"
   ]
  },
  {
   "cell_type": "markdown",
   "metadata": {},
   "source": [
    "#과적합, 변수중요도 판단불가;;"
   ]
  },
  {
   "cell_type": "code",
   "execution_count": null,
   "metadata": {},
   "outputs": [],
   "source": []
  },
  {
   "cell_type": "code",
   "execution_count": null,
   "metadata": {},
   "outputs": [],
   "source": []
  },
  {
   "cell_type": "code",
   "execution_count": null,
   "metadata": {},
   "outputs": [],
   "source": []
  },
  {
   "cell_type": "code",
   "execution_count": null,
   "metadata": {},
   "outputs": [],
   "source": []
  },
  {
   "cell_type": "code",
   "execution_count": null,
   "metadata": {},
   "outputs": [],
   "source": []
  },
  {
   "cell_type": "code",
   "execution_count": null,
   "metadata": {},
   "outputs": [],
   "source": []
  },
  {
   "cell_type": "code",
   "execution_count": null,
   "metadata": {},
   "outputs": [],
   "source": []
  }
 ],
 "metadata": {
  "kernelspec": {
   "display_name": "Python 3",
   "language": "python",
   "name": "python3"
  },
  "language_info": {
   "codemirror_mode": {
    "name": "ipython",
    "version": 3
   },
   "file_extension": ".py",
   "mimetype": "text/x-python",
   "name": "python",
   "nbconvert_exporter": "python",
   "pygments_lexer": "ipython3",
   "version": "3.6.5"
  }
 },
 "nbformat": 4,
 "nbformat_minor": 2
}
