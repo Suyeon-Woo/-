{
 "cells": [
  {
   "cell_type": "markdown",
   "metadata": {},
   "source": [
    "#구글 플레이 앱스토어에서 스크랩 된 데이터\n",
    "#각 앱 (행)에는 카테고리, 등급, 크기 등에 대한 값이 있습니다.\n",
    "#Play 스토어 앱 데이터는 앱 제작 비즈니스를 성공으로 이끄는 엄청난 잠재력을 가지고 있습니다. \n",
    "#개발자가 Android 시장에서 작업하고 점령 할 수 있도록 실행 가능한 통찰력을 얻을 수 있습니다!"
   ]
  },
  {
   "cell_type": "markdown",
   "metadata": {},
   "source": [
    "1) App :- Name of the App\n",
    "2) Category :- Category under which the App falls.\n",
    "3) Rating :- Application's rating on playstore\n",
    "4) Reviews :- Number of reviews of the App.\n",
    "5) Size :- Size of the App.\n",
    "6) Install :- Number of Installs of the App\n",
    "7) Type :- If the App is free/paid\n",
    "8) Price :- Price of the app (0 if it is Free)\n",
    "9) Content Rating :- Appropiate Target Audience of the App.\n",
    "10) Genres:- Genre under which the App falls.\n",
    "11) Last Updated :- Date when the App was last updated\n",
    "12) Current Ver :- Current Version of the Application\n",
    "13) Android Ver :- Minimum Android Version required to run the App"
   ]
  },
  {
   "cell_type": "code",
   "execution_count": null,
   "metadata": {
    "scrolled": true
   },
   "outputs": [],
   "source": [
    "import numpy as np\n",
    "import pandas as pd\n",
    "import matplotlib.pyplot as plt\n",
    "import matplotlib\n",
    "\n",
    "playapp = pd.read_csv(\"C:/Users/SAMSUNG/Desktop/googleplaystore.csv\")\n",
    "print(playapp.shape)"
   ]
  },
  {
   "cell_type": "code",
   "execution_count": null,
   "metadata": {},
   "outputs": [],
   "source": [
    "playapp.head(5)"
   ]
  },
  {
   "cell_type": "code",
   "execution_count": null,
   "metadata": {},
   "outputs": [],
   "source": [
    "playapp.tail(5)"
   ]
  },
  {
   "cell_type": "markdown",
   "metadata": {},
   "source": [
    "#앱, 카테고리,타입,콘텐트 레이팅, 장르는 문자형 변수\n",
    "#rating,reviews,size,installs,price,current ver, android ver는 숫자형\n",
    "#last updated는 날짜형변수\n",
    "#리뷰-숫자형으로 바꾸기, size는 m을 제거하고 숫자형으로 바꾸기, installs는 +제거하고 숫자형으로 바꾸기\n",
    "#price,current ver, android ver 숫자형으로 바꾸기\n",
    "#last updated는 날짜형으로 바꾸기 혹은 숫자형으로"
   ]
  },
  {
   "cell_type": "code",
   "execution_count": null,
   "metadata": {},
   "outputs": [],
   "source": [
    "playapp.info()"
   ]
  },
  {
   "cell_type": "code",
   "execution_count": null,
   "metadata": {},
   "outputs": [],
   "source": [
    "playapp.isnull().sum()"
   ]
  },
  {
   "cell_type": "code",
   "execution_count": null,
   "metadata": {},
   "outputs": [],
   "source": [
    "#rating이 결측값이 많으므로 median으로 대체하기, type은 drop"
   ]
  },
  {
   "cell_type": "code",
   "execution_count": null,
   "metadata": {},
   "outputs": [],
   "source": [
    "playapp.describe()"
   ]
  },
  {
   "cell_type": "code",
   "execution_count": null,
   "metadata": {},
   "outputs": [],
   "source": [
    "playapp['Price'].unique()"
   ]
  },
  {
   "cell_type": "markdown",
   "metadata": {},
   "source": [
    "# Data Cleaning"
   ]
  },
  {
   "cell_type": "code",
   "execution_count": null,
   "metadata": {},
   "outputs": [],
   "source": [
    "# 결측값 대체와 제거"
   ]
  },
  {
   "cell_type": "code",
   "execution_count": null,
   "metadata": {},
   "outputs": [],
   "source": [
    "playapp['Rating'] = playapp['Rating'].fillna(playapp['Rating'].median())"
   ]
  },
  {
   "cell_type": "code",
   "execution_count": null,
   "metadata": {},
   "outputs": [],
   "source": [
    "playapp = playapp[pd.notnull(playapp['Type'])]\n",
    "playapp = playapp[pd.notnull(playapp['Content Rating'])]\n",
    "playapp = playapp[pd.notnull(playapp['Current Ver'])]\n",
    "playapp = playapp[pd.notnull(playapp['Android Ver'])]"
   ]
  },
  {
   "cell_type": "code",
   "execution_count": null,
   "metadata": {},
   "outputs": [],
   "source": [
    "playapp.isnull().sum()"
   ]
  },
  {
   "cell_type": "code",
   "execution_count": null,
   "metadata": {},
   "outputs": [],
   "source": [
    "#카테고리 변수에 대한 전처리 과정"
   ]
  },
  {
   "cell_type": "code",
   "execution_count": null,
   "metadata": {},
   "outputs": [],
   "source": [
    "playapp['Category'].unique()"
   ]
  },
  {
   "cell_type": "code",
   "execution_count": null,
   "metadata": {},
   "outputs": [],
   "source": [
    "import re\n",
    "import seaborn as sns\n",
    "import time"
   ]
  },
  {
   "cell_type": "code",
   "execution_count": null,
   "metadata": {},
   "outputs": [],
   "source": [
    "# 현재 버전 변수를 number.number의 포맷으로 변환하는 과정 to simplify the data\n",
    "# all non numerical values & unicode charachters를 제거해야 한다. \n",
    "\n",
    "replaces = [u'\\u00AE', u'\\u2013', u'\\u00C3', u'\\u00E3', u'\\u00B3', '[', ']', \"'\"]\n",
    "for i in replaces:\n",
    "    playapp['Current Ver'] = playapp['Current Ver'].astype(str).apply(lambda x : x.replace(i, ''))\n",
    "\n",
    "regex = [r'[-+|/:/;(_)@]', r'\\s+', r'[A-Za-z]+']\n",
    "for j in regex:\n",
    "    playapp['Current Ver'] = playapp['Current Ver'].astype(str).apply(lambda x : re.sub(j, '0', x))\n",
    "\n",
    "playapp['Current Ver'] = playapp['Current Ver'].astype(str).apply(lambda x : x.replace('.', ',',1).replace('.', '').replace(',', '.',1)).astype(float)\n"
   ]
  },
  {
   "cell_type": "markdown",
   "metadata": {},
   "source": [
    "# Encoding"
   ]
  },
  {
   "cell_type": "code",
   "execution_count": null,
   "metadata": {},
   "outputs": [],
   "source": [
    "#앱, 카테고리,타입,콘텐트 레이팅, 장르는 문자형 변수\n",
    "#rating,reviews,size,installs,price,current ver, android ver는 숫자형\n",
    "#last updated는 날짜형변수\n",
    "#리뷰-숫자형으로 바꾸기, size는 m을 제거하고 숫자형으로 바꾸기, installs는 +제거하고 숫자형으로 바꾸기\n",
    "#price,current ver, android ver 숫자형으로 바꾸기\n",
    "#last updated는 날짜형으로 바꾸기 혹은 숫자형으로"
   ]
  },
  {
   "cell_type": "code",
   "execution_count": null,
   "metadata": {},
   "outputs": [],
   "source": [
    "#엔코딩 종류는 레이블엔코딩과 원핫엔코딩이 있음\n",
    "#레이블 엔코딩은 각범주별 숫자를 부여하기 때문에 선형 모형을 쓸 경우 숫자로 인식하여 적절하지 않음\n",
    "#나중에 선형 모형 몇개도 적합할 것이므로 원핫인코딩만 사용함"
   ]
  },
  {
   "cell_type": "code",
   "execution_count": null,
   "metadata": {},
   "outputs": [],
   "source": [
    "from sklearn import preprocessing"
   ]
  },
  {
   "cell_type": "code",
   "execution_count": null,
   "metadata": {},
   "outputs": [],
   "source": [
    "# 앱 변수 encoding\n",
    "playapp['App'] = pd.get_dummies(playapp['App'],drop_first=True)\n",
    "playapp['Category']=pd.get_dummies(playapp['Category'],drop_first=True)\n",
    "playapp['Type']=pd.get_dummies(playapp['Type'],drop_first=True)\n",
    "playapp['Content Rating']=pd.get_dummies(playapp['Content Rating'],drop_first=True)\n",
    "playapp['Genres']=pd.get_dummies(playapp['Genres'],drop_first=True)"
   ]
  },
  {
   "cell_type": "code",
   "execution_count": null,
   "metadata": {},
   "outputs": [],
   "source": [
    "# Last Updated (날짜형변수 변환) encoding - 문자열을 datetime으로 변환\n",
    "import datetime\n",
    "playapp['Last Updated'] = playapp['Last Updated'].apply(lambda x : time.mktime(datetime.datetime.strptime(x, '%B %d, %Y').timetuple()))\n",
    "\n",
    "# Price cleaning-unique함수로 살펴본 바 있음\n",
    "playapp['Price'] = playapp['Price'].apply(lambda x : x.strip('$'))\n",
    "\n",
    "# Installs cleaning\n",
    "playapp['Installs'] = playapp['Installs'].apply(lambda x : x.strip('+').replace(',', ''))\n",
    "\n",
    "# Convert kbytes to Mbytes\n",
    "k_indices = playapp['Size'].loc[playapp['Size'].str.contains('k')].index.tolist()\n",
    "converter = pd.DataFrame(playapp.loc[k_indices, 'Size'].apply(lambda x: x.strip('k')).astype(float).apply(lambda x: x / 1024).apply(lambda x: round(x, 3)).astype(str))\n",
    "playapp.loc[k_indices,'Size'] = converter\n",
    "\n",
    "# Size cleaning-M붙어있는거 제거하고 기기에 따라 다양한 행도 0으로 맞춰준 후 float형으로 타입변환\n",
    "playapp['Size'] = playapp['Size'].apply(lambda x: x.strip('M'))\n",
    "playapp[playapp['Size'] == 'Varies with device'] = 0\n",
    "playapp['Size'] = playapp['Size'].astype(float)"
   ]
  },
  {
   "cell_type": "markdown",
   "metadata": {},
   "source": [
    "# Modeling"
   ]
  },
  {
   "cell_type": "code",
   "execution_count": null,
   "metadata": {},
   "outputs": [],
   "source": [
    "from sklearn.ensemble import RandomForestRegressor\n",
    "from sklearn.model_selection import train_test_split\n",
    "from sklearn.linear_model import Ridge, Lasso\n",
    "\n",
    "from sklearn import metrics\n",
    "from sklearn.metrics import accuracy_score, mean_squared_error,mean_absolute_error,r2_score"
   ]
  },
  {
   "cell_type": "code",
   "execution_count": null,
   "metadata": {},
   "outputs": [],
   "source": [
    "features = ['App','Category','Reviews','Size','Installs','Type','Price','Content Rating','Genres','Last Updated','Current Ver']\n",
    "\n",
    "X = playapp[features]\n",
    "y = playapp['Rating']"
   ]
  },
  {
   "cell_type": "markdown",
   "metadata": {},
   "source": [
    "#Python 리스트에 새로운 원소를 추가하는 방법에는\n",
    "#append(x)와 extend(iterable)가 있고 두 함수의 차이점을 알아보겠습니다.(참고로 insert(i, x)함수도 있으며 위치 i에 x를 추가합니다)\n",
    "#append는 리스트 자체를 추가하고 extend는 원소를 추가함."
   ]
  },
  {
   "cell_type": "code",
   "execution_count": null,
   "metadata": {},
   "outputs": [],
   "source": [
    "X_train, X_test, y_train, y_test = train_test_split(X, y, test_size = 0.30, random_state=10)"
   ]
  },
  {
   "cell_type": "markdown",
   "metadata": {},
   "source": [
    "1.Decision Tree Regression"
   ]
  },
  {
   "cell_type": "code",
   "execution_count": null,
   "metadata": {},
   "outputs": [],
   "source": [
    "from sklearn import tree\n",
    "clf = tree.DecisionTreeRegressor(criterion='mae', max_depth=5, min_samples_leaf=5, random_state=42)\n",
    "clf.fit(X_train, y_train)\n",
    "clf.score(X_test, y_test)"
   ]
  },
  {
   "cell_type": "markdown",
   "metadata": {},
   "source": [
    "2.Random Forest"
   ]
  },
  {
   "cell_type": "code",
   "execution_count": null,
   "metadata": {},
   "outputs": [],
   "source": [
    "rf = RandomForestRegressor(n_estimators = 200, n_jobs=-1, random_state=10)\n",
    "rf.fit(X_train, y_train)\n",
    "rf.score(X_test,y_test)"
   ]
  },
  {
   "cell_type": "code",
   "execution_count": null,
   "metadata": {},
   "outputs": [],
   "source": [
    "3.Multiple Linear Regression "
   ]
  },
  {
   "cell_type": "code",
   "execution_count": null,
   "metadata": {},
   "outputs": [],
   "source": [
    "from sklearn.linear_model import LinearRegression\n",
    "mlr = LinearRegression()\n",
    "mlr.fit(X_train,y_train)\n",
    "mlr.score(X_test,y_test)                                  \n",
    "\n",
    "#R^2<0인 경우, 편차제곱<오차제곱인 상황으로\n",
    "#내가 만든 regression model이 그냥 mean value로 예측하는 모델보다 예측성능이 더 낮은 비정상적인 경우를 의미"
   ]
  },
  {
   "cell_type": "markdown",
   "metadata": {},
   "source": [
    "4.Ridge model"
   ]
  },
  {
   "cell_type": "code",
   "execution_count": null,
   "metadata": {},
   "outputs": [],
   "source": [
    "ridge = Ridge()\n",
    "ridge.fit(X_train,y_train)\n",
    "ridge.score(X_test,y_test)"
   ]
  },
  {
   "cell_type": "markdown",
   "metadata": {},
   "source": [
    "5.Lasso model"
   ]
  },
  {
   "cell_type": "code",
   "execution_count": null,
   "metadata": {},
   "outputs": [],
   "source": [
    "lasso = Lasso()\n",
    "lasso.fit(X_train,y_train)\n",
    "lasso.score(X_test,y_test)"
   ]
  },
  {
   "cell_type": "code",
   "execution_count": null,
   "metadata": {},
   "outputs": [],
   "source": [
    "# 결정트리 - 91.88\n",
    "# 랜덤포레스트 - 92.47\n",
    "# 다중 회귀 - 오류\n",
    "# 릿지 - 91.77\n",
    "# 라쏘 - 91.75\n",
    "# 랜포>트리>릿지>라쏘"
   ]
  }
 ],
 "metadata": {
  "kernelspec": {
   "display_name": "Python 3",
   "language": "python",
   "name": "python3"
  },
  "language_info": {
   "codemirror_mode": {
    "name": "ipython",
    "version": 3
   },
   "file_extension": ".py",
   "mimetype": "text/x-python",
   "name": "python",
   "nbconvert_exporter": "python",
   "pygments_lexer": "ipython3",
   "version": "3.6.5"
  }
 },
 "nbformat": 4,
 "nbformat_minor": 2
}
